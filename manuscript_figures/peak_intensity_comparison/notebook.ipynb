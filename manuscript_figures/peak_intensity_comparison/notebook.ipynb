{
 "cells": [
  {
   "cell_type": "markdown",
   "metadata": {},
   "source": [
    "# Peak intensity comparison\n",
    "Scripts used to generate supplementary figure 3 of the manuscript:\n",
    ">**The future of peptide-centric Data-Independent Acquisition is predicted**  \n",
    ">_Bart Van Puyvelde\\*, Sander Willems\\*, Ralf Gabriels\\*, Simon Daled, Laura De Clerck, An Staes, Francis Impens, Dieter Deforce, Lennart Martens, Sven Degroeve, Maarten Dhaenens_  \n",
    ">2019 bioRxiv doi: https://doi.org/10.1101/681429\n",
    "\n",
    "> Pearson correlation coefficients between the experimental spectra from the Narrow and Wide-Window HeLa DIA data of the EncyclopeDIA article and the source libraries from DDA or MS²PIP and Prosit, as well as the chromatogram libraries derived from DDA or MS²PIP and Prosit."
   ]
  },
  {
   "cell_type": "markdown",
   "metadata": {},
   "source": [
    "## Merge all library output files\n",
    "Exported from EncyclopeDIA as OpenSWATH TSV files after every search."
   ]
  },
  {
   "cell_type": "markdown",
   "metadata": {},
   "source": [
    "```python\n",
    "import os\n",
    "import pandas as pd\n",
    "\n",
    "path = 'EncyclopeDIA_exports'\n",
    "source_libs = ['PanHuman', 'MS2PIPClone', 'PrositClone']\n",
    "dataset = ['NarrowChromatogramLibrary', 'WideChromatogramLibrary', 'SourceLibrary']\n",
    "\n",
    "to_concat = []\n",
    "for source in source_libs:\n",
    "    for ds in dataset:\n",
    "        tmp = pd.read_csv(os.path.join(path, f'{source}_{ds}.tsv'), sep='\\t')\n",
    "        tmp['source_lib'] = source\n",
    "        tmp['dataset'] = ds\n",
    "        to_concat.append(tmp)\n",
    "datasets = pd.concat(to_concat, axis=0)\n",
    "datasets.to_hdf('all_datasets.h5', key='table')\n",
    "```\n",
    "\n",
    "All EncyclopeDIA exports and `all_datasets.h5` can be downloaded from [genesis.ugent.be/uvpublicdata/MS2PIP-for-DIA/peak_intensity_comparison](http://genesis.ugent.be/uvpublicdata/MS2PIP-for-DIA/peak_intensity_comparison/)"
   ]
  },
  {
   "cell_type": "code",
   "execution_count": 1,
   "metadata": {},
   "outputs": [],
   "source": [
    "import numpy as np\n",
    "import pandas as pd\n",
    "\n",
    "import matplotlib.pyplot as plt\n",
    "import seaborn as sns\n",
    "sns.set_style('whitegrid')\n",
    "sns.set_palette('deep')"
   ]
  },
  {
   "cell_type": "code",
   "execution_count": 2,
   "metadata": {},
   "outputs": [],
   "source": [
    "datasets = pd.read_hdf('all_datasets.h5', key='table')"
   ]
  },
  {
   "cell_type": "markdown",
   "metadata": {},
   "source": [
    "## Number of unique peptides per dataset"
   ]
  },
  {
   "cell_type": "code",
   "execution_count": 3,
   "metadata": {},
   "outputs": [
    {
     "data": {
      "image/png": "[encoded data removed]",
      "text/plain": [
       "<Figure size 820.375x360 with 1 Axes>"
      ]
     },
     "metadata": {
      "needs_background": "light"
     },
     "output_type": "display_data"
    }
   ],
   "source": [
    "unique_peptides = datasets[~datasets.duplicated(['transition_group_id', 'source_lib', 'dataset'])]\n",
    "gb = unique_peptides.groupby(['source_lib', 'dataset']).size().reset_index()\n",
    "\n",
    "sns.catplot(\n",
    "    data=gb, y='dataset', x=0, hue='source_lib',\n",
    "    kind='bar', orient='h', aspect=2, order=['SourceLibrary', 'NarrowChromatogramLibrary', 'WideChromatogramLibrary'],\n",
    ")\n",
    "plt.show()"
   ]
  },
  {
   "cell_type": "markdown",
   "metadata": {},
   "source": [
    "## Calculate correlations\n",
    "**Define functions to calculate correlations for given datasets**"
   ]
  },
  {
   "cell_type": "code",
   "execution_count": 4,
   "metadata": {},
   "outputs": [],
   "source": [
    "from itertools import product\n",
    "from multiprocessing import Pool\n",
    "\n",
    "import numpy as np\n",
    "from scipy.stats import pearsonr\n",
    "\n",
    "\n",
    "def spectrum_pearson(true, pred):\n",
    "    \"\"\"\n",
    "    Return pearson of tic-normalized, log2-transformed intensities, \n",
    "    the MS2PIP way.\n",
    "    \"\"\"\n",
    "    tic_norm = lambda x: x / np.sum(x)\n",
    "    log_transform = lambda x: np.log2(x + 0.001)\n",
    "    corr = pearsonr(\n",
    "        log_transform(tic_norm(true)), \n",
    "        log_transform(tic_norm(pred))\n",
    "    )[0]\n",
    "    return corr\n",
    "\n",
    "\n",
    "def merge_intensities(left, right):\n",
    "    merge_cols = [\n",
    "        'PeptideSequence', 'PrecursorCharge', 'ProductCharge',\n",
    "        'FragmentIonType', 'FragmentSeriesNumber',\n",
    "    ]\n",
    "\n",
    "    left = left.rename(columns={'LibraryIntensity': 'intensity_left'})\n",
    "    right = right[merge_cols + ['LibraryIntensity']].rename(columns={'LibraryIntensity': 'intensity_right'})\n",
    "\n",
    "    merge = left.merge(right, on=merge_cols)\n",
    "    return merge\n",
    "\n",
    "\n",
    "def correlate_mp(args):\n",
    "    \"\"\"\n",
    "    Calculate correlations for a given source library, and left and right datasets.\n",
    "    \"\"\"\n",
    "    source_lib, (left, right) = args\n",
    "    merge = merge_intensities(\n",
    "        datasets[(datasets['source_lib'] == source_lib) & (datasets['dataset'] == left)],\n",
    "        datasets[(datasets['source_lib'] == source_lib) & (datasets['dataset'] == right)]\n",
    "    )\n",
    "\n",
    "    gb_cols = ['transition_group_id', 'intensity_left', 'intensity_right']\n",
    "    corr = merge[gb_cols]\\\n",
    "        .groupby('transition_group_id').corr(method=spectrum_pearson).iloc[::2,1]\\\n",
    "        .reset_index()[['transition_group_id', 'intensity_right']]\\\n",
    "        .rename(columns={'intensity_right': 'correlation'})\n",
    "\n",
    "    corr['source_lib'] = source_lib\n",
    "    corr['left'] = left\n",
    "    corr['right'] = right\n",
    "\n",
    "    return corr"
   ]
  },
  {
   "cell_type": "markdown",
   "metadata": {},
   "source": [
    "**Filter out y1 ions and peptides with less than 5 transitions**"
   ]
  },
  {
   "cell_type": "code",
   "execution_count": 5,
   "metadata": {},
   "outputs": [],
   "source": [
    "num_transitions = datasets.groupby(['transition_group_id', 'source_lib', 'dataset'])\\\n",
    "    .size()\\\n",
    "    .reset_index()\\\n",
    "    .rename(columns={0: 'num_transitions'})\n",
    "\n",
    "datasets = datasets.merge(num_transitions, on=['transition_group_id', 'source_lib', 'dataset'])\n",
    "\n",
    "datasets = datasets[\n",
    "    ~(\n",
    "        (datasets['FragmentIonType'] == 'y') &\n",
    "        (datasets['FragmentSeriesNumber'] == 1)\n",
    "    ) &\n",
    "    datasets['num_transitions'].ge(5)\n",
    "]"
   ]
  },
  {
   "cell_type": "markdown",
   "metadata": {},
   "source": [
    "**Calculate correlations for all datasets, using multiprocessing**"
   ]
  },
  {
   "cell_type": "code",
   "execution_count": 6,
   "metadata": {},
   "outputs": [
    {
     "name": "stderr",
     "output_type": "stream",
     "text": [
      "/home/compomics/anaconda3/lib/python3.7/site-packages/ipykernel_launcher.py:13: RuntimeWarning: invalid value encountered in true_divide\n",
      "  del sys.path[0]\n",
      "/home/compomics/anaconda3/lib/python3.7/site-packages/ipykernel_launcher.py:13: RuntimeWarning: invalid value encountered in true_divide\n",
      "  del sys.path[0]\n",
      "/home/compomics/anaconda3/lib/python3.7/site-packages/ipykernel_launcher.py:13: RuntimeWarning: invalid value encountered in true_divide\n",
      "  del sys.path[0]\n",
      "/home/compomics/anaconda3/lib/python3.7/site-packages/ipykernel_launcher.py:13: RuntimeWarning: invalid value encountered in true_divide\n",
      "  del sys.path[0]\n",
      "/home/compomics/anaconda3/lib/python3.7/site-packages/ipykernel_launcher.py:13: RuntimeWarning: invalid value encountered in true_divide\n",
      "  del sys.path[0]\n",
      "/home/compomics/anaconda3/lib/python3.7/site-packages/scipy/stats/stats.py:3038: RuntimeWarning: invalid value encountered in double_scalars\n",
      "  r = r_num / r_den\n",
      "/home/compomics/anaconda3/lib/python3.7/site-packages/scipy/stats/stats.py:3038: RuntimeWarning: invalid value encountered in double_scalars\n",
      "  r = r_num / r_den\n",
      "/home/compomics/anaconda3/lib/python3.7/site-packages/ipykernel_launcher.py:13: RuntimeWarning: invalid value encountered in true_divide\n",
      "  del sys.path[0]\n",
      "/home/compomics/anaconda3/lib/python3.7/site-packages/scipy/stats/stats.py:3049: RuntimeWarning: invalid value encountered in double_scalars\n",
      "  0.5*df, 0.5, np.fmin(np.asarray(df / (df + t_squared)), 1.0)\n",
      "/home/compomics/anaconda3/lib/python3.7/site-packages/scipy/stats/stats.py:3049: RuntimeWarning: invalid value encountered in double_scalars\n",
      "  0.5*df, 0.5, np.fmin(np.asarray(df / (df + t_squared)), 1.0)\n",
      "/home/compomics/anaconda3/lib/python3.7/site-packages/scipy/stats/stats.py:3049: RuntimeWarning: invalid value encountered in double_scalars\n",
      "  0.5*df, 0.5, np.fmin(np.asarray(df / (df + t_squared)), 1.0)\n",
      "/home/compomics/anaconda3/lib/python3.7/site-packages/ipykernel_launcher.py:13: RuntimeWarning: invalid value encountered in true_divide\n",
      "  del sys.path[0]\n",
      "/home/compomics/anaconda3/lib/python3.7/site-packages/ipykernel_launcher.py:13: RuntimeWarning: invalid value encountered in true_divide\n",
      "  del sys.path[0]\n",
      "/home/compomics/anaconda3/lib/python3.7/site-packages/ipykernel_launcher.py:13: RuntimeWarning: invalid value encountered in true_divide\n",
      "  del sys.path[0]\n",
      "/home/compomics/anaconda3/lib/python3.7/site-packages/scipy/stats/stats.py:3038: RuntimeWarning: invalid value encountered in double_scalars\n",
      "  r = r_num / r_den\n",
      "/home/compomics/anaconda3/lib/python3.7/site-packages/scipy/stats/stats.py:3049: RuntimeWarning: invalid value encountered in double_scalars\n",
      "  0.5*df, 0.5, np.fmin(np.asarray(df / (df + t_squared)), 1.0)\n",
      "/home/compomics/anaconda3/lib/python3.7/site-packages/scipy/stats/stats.py:3049: RuntimeWarning: invalid value encountered in double_scalars\n",
      "  0.5*df, 0.5, np.fmin(np.asarray(df / (df + t_squared)), 1.0)\n",
      "/home/compomics/anaconda3/lib/python3.7/site-packages/scipy/stats/stats.py:3049: RuntimeWarning: invalid value encountered in double_scalars\n",
      "  0.5*df, 0.5, np.fmin(np.asarray(df / (df + t_squared)), 1.0)\n",
      "/home/compomics/anaconda3/lib/python3.7/site-packages/scipy/stats/stats.py:3038: RuntimeWarning: invalid value encountered in double_scalars\n",
      "  r = r_num / r_den\n",
      "/home/compomics/anaconda3/lib/python3.7/site-packages/scipy/stats/stats.py:3038: RuntimeWarning: invalid value encountered in double_scalars\n",
      "  r = r_num / r_den\n"
     ]
    }
   ],
   "source": [
    "comparisons = [\n",
    "    ('SourceLibrary', 'WideChromatogramLibrary'),\n",
    "    ('SourceLibrary', 'NarrowChromatogramLibrary'),\n",
    "    ('NarrowChromatogramLibrary', 'WideChromatogramLibrary'),\n",
    "]\n",
    "source_libs = ['PanHuman', 'MS2PIPClone', 'PrositClone']\n",
    "combinations = product(source_libs, comparisons)\n",
    "\n",
    "with Pool(10) as p:\n",
    "    all_corr = p.map(correlate_mp, combinations)\n",
    "    \n",
    "all_corr = pd.concat(all_corr, axis=0)\n",
    "all_corr.to_hdf('all_correlations.h5', key='table')"
   ]
  },
  {
   "cell_type": "markdown",
   "metadata": {},
   "source": [
    "**Plot**"
   ]
  },
  {
   "cell_type": "code",
   "execution_count": 7,
   "metadata": {},
   "outputs": [],
   "source": [
    "#all_corr = pd.read_hdf('all_correlations.h5', key='table')"
   ]
  },
  {
   "cell_type": "code",
   "execution_count": 8,
   "metadata": {},
   "outputs": [],
   "source": [
    "all_corr['comparison'] = all_corr['left'] + ' vs ' + all_corr['right']"
   ]
  },
  {
   "cell_type": "code",
   "execution_count": 10,
   "metadata": {},
   "outputs": [],
   "source": [
    "xtick_locations = [-0.27, -0.01, 0.25, 0.73, 0.99, 1.25, 1.73, 1.99, 2.25]\n",
    "xtick_text = [\n",
    "    \"(a) DDA source library & Wide DIA\",\n",
    "    \"(b) MS²PIP source library & Wide DIA\",\n",
    "    \"(b) Prosit source library & Wide DIA\",\n",
    "    \"(f*) DDA source library & Narrow DIA\",\n",
    "    \"(c*) MS²PIP source library & Narrow DIA\",\n",
    "    \"(c*) Prosit source library & Narrow DIA\",\n",
    "    \"(f) DDA chromatogram library & Wide DIA\",\n",
    "    \"(c) MS²PIP chromatogram library & Wide DIA\",\n",
    "    \"(c) Prosit chromatogram library & Wide DIA\",\n",
    "]"
   ]
  },
  {
   "cell_type": "code",
   "execution_count": 11,
   "metadata": {},
   "outputs": [
    {
     "data": {
      "image/png": "[encoded data removed]",
      "text/plain": [
       "<Figure size 900x360 with 1 Axes>"
      ]
     },
     "metadata": {
      "needs_background": "light"
     },
     "output_type": "display_data"
    }
   ],
   "source": [
    "ax = sns.catplot(\n",
    "    data=all_corr, x='correlation', y='comparison', hue='source_lib', \n",
    "    kind='box', orient='h', showfliers=False, aspect=2.5, legend=False, fliersize=0.01\n",
    ")\n",
    "sns.despine(left=False, bottom=True)\n",
    "plt.ylabel('')\n",
    "plt.xlabel('Pearson correlation coefficient')\n",
    "plt.yticks(xtick_locations, xtick_text)\n",
    "plt.savefig('all_correlations.svg', transparent=True, dpi=300)\n",
    "plt.show()"
   ]
  }
 ],
 "metadata": {
  "kernelspec": {
   "display_name": "Python 3",
   "language": "python",
   "name": "python3"
  },
  "language_info": {
   "codemirror_mode": {
    "name": "ipython",
    "version": 3
   },
   "file_extension": ".py",
   "mimetype": "text/x-python",
   "name": "python",
   "nbconvert_exporter": "python",
   "pygments_lexer": "ipython3",
   "version": "3.5.2"
  }
 },
 "nbformat": 4,
 "nbformat_minor": 2
}
